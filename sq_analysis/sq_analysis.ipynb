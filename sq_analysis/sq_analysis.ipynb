{
 "cells": [
  {
   "cell_type": "code",
   "execution_count": null,
   "metadata": {},
   "outputs": [],
   "source": [
    "# CLEAR OUTPUT BEFORE COMMITTING!!!"
   ]
  },
  {
   "cell_type": "code",
   "execution_count": null,
   "metadata": {},
   "outputs": [],
   "source": [
    "import sqlite3\n",
    "import pandas as pd\n",
    "from pandas import DataFrame, Series\n",
    "import numpy as np\n",
    "import matplotlib\n",
    "from matplotlib import pyplot as plt\n",
    "from scipy import stats\n",
    "import seaborn as sns\n",
    "from fitter import Fitter, get_common_distributions, get_distributions\n",
    "\n",
    "plt.rcParams.update({'font.size': 32})\n",
    "sns.set()"
   ]
  },
  {
   "cell_type": "code",
   "execution_count": null,
   "metadata": {},
   "outputs": [],
   "source": [
    "conn = sqlite3.connect(\"db.db\")\n",
    "pd.read_sql(\"SELECT * FROM sqlite_master WHERE type='table'\", conn)"
   ]
  },
  {
   "cell_type": "code",
   "execution_count": null,
   "metadata": {},
   "outputs": [],
   "source": [
    "projects = pd.read_sql(\"\"\"\n",
    "    SELECT *\n",
    "    FROM SQ_Project\n",
    "\"\"\", conn)\n",
    "\n",
    "issues = pd.read_sql(\"\"\"\n",
    "    SELECT *\n",
    "    FROM SQ_Issue\n",
    "\"\"\", conn)\n",
    "\n",
    "projects = projects.set_index(\"id\")\n",
    "issues = issues.set_index(\"id\")"
   ]
  },
  {
   "cell_type": "code",
   "execution_count": null,
   "metadata": {},
   "outputs": [],
   "source": [
    "conn.close()"
   ]
  },
  {
   "cell_type": "code",
   "execution_count": null,
   "metadata": {},
   "outputs": [],
   "source": [
    "projects = projects[projects.index != \"f22_hw3_0e83d1dddd1c3468d23a033da13e34bfdbd3b09e3c129d2d4fe4044acaf0bbc6\"]\n",
    "issues = issues[issues[\"project_id\"] != \"f22_hw3_0e83d1dddd1c3468d23a033da13e34bfdbd3b09e3c129d2d4fe4044acaf0bbc6\"]\n",
    "\n",
    "projects = projects[projects.index != \"f22_hw6_bf07896588ac21f4471e818c5a7475898cf80e609f73a93134d9f6da5a6e3e38\"]\n",
    "issues = issues[issues[\"project_id\"] != \"f22_hw6_bf07896588ac21f4471e818c5a7475898cf80e609f73a93134d9f6da5a6e3e38\"]"
   ]
  },
  {
   "cell_type": "code",
   "execution_count": null,
   "metadata": {},
   "outputs": [],
   "source": [
    "megaTable = issues.join(projects, on=\"project_id\")"
   ]
  },
  {
   "cell_type": "code",
   "execution_count": null,
   "metadata": {},
   "outputs": [],
   "source": [
    "len(projects.groupby(\"student\").count()[\"hw\"])"
   ]
  },
  {
   "cell_type": "code",
   "execution_count": null,
   "metadata": {},
   "outputs": [],
   "source": [
    "projects.columns"
   ]
  },
  {
   "cell_type": "code",
   "execution_count": null,
   "metadata": {},
   "outputs": [],
   "source": [
    "issues.columns"
   ]
  },
  {
   "cell_type": "code",
   "execution_count": null,
   "metadata": {},
   "outputs": [],
   "source": [
    "megaTable.columns"
   ]
  },
  {
   "cell_type": "code",
   "execution_count": null,
   "metadata": {},
   "outputs": [],
   "source": [
    "megaTable[megaTable[\"project_id\"] == \"f22_hw3_6542b43b5548d24d8632ae0ef3e57e1a3da38c79bf830605c692c76b8f3c24d7\"]['message']"
   ]
  },
  {
   "cell_type": "code",
   "execution_count": null,
   "metadata": {},
   "outputs": [],
   "source": [
    "megaTable[megaTable[\"project_id\"] == \"f22_hw3_TEMPLATE\"]['message']"
   ]
  },
  {
   "cell_type": "code",
   "execution_count": null,
   "metadata": {},
   "outputs": [],
   "source": [
    "megaTable"
   ]
  },
  {
   "cell_type": "code",
   "execution_count": null,
   "metadata": {},
   "outputs": [],
   "source": [
    "print(len(megaTable[megaTable[\"severity\"] == \"INFO\"]))\n",
    "print(len(megaTable[megaTable[\"severity\"] == \"MINOR\"]))\n",
    "print(len(megaTable[megaTable[\"severity\"] == \"MAJOR\"]))\n",
    "print(len(megaTable[megaTable[\"severity\"] == \"CRITICAL\"]))\n",
    "print(len(megaTable[megaTable[\"severity\"] == \"BLOCKER\"]))"
   ]
  },
  {
   "cell_type": "code",
   "execution_count": null,
   "metadata": {},
   "outputs": [],
   "source": [
    "megaTable.groupby([\"type\", \"severity\"]) \\\n",
    "    .count()[\"project_id\"]"
   ]
  },
  {
   "cell_type": "code",
   "execution_count": null,
   "metadata": {},
   "outputs": [],
   "source": [
    "makeup = megaTable.groupby([\"type\", \"severity\"]).count()[\"project_id\"].to_frame()\n",
    "# makeup['type'] = makeup.index\n",
    "makeup = makeup.reset_index(level=0)\n",
    "makeup = makeup.reset_index(level=0)\n",
    "makeup = makeup.rename(columns={'project_id': 'count'})\n",
    "makeup"
   ]
  },
  {
   "cell_type": "code",
   "execution_count": null,
   "metadata": {},
   "outputs": [],
   "source": [
    "megaTable.value_counts(\"severity\", normalize=True)"
   ]
  },
  {
   "cell_type": "code",
   "execution_count": null,
   "metadata": {},
   "outputs": [],
   "source": [
    "def fillCol(df, sev, typ):\n",
    "    if(not sev in df[df[\"type\"] == typ][\"severity\"].tolist()):\n",
    "        df = df.append({\n",
    "            \"severity\": sev,\n",
    "            \"perc\": 0,\n",
    "            \"type\": typ\n",
    "        }, ignore_index=True)\n",
    "    return df"
   ]
  },
  {
   "cell_type": "code",
   "execution_count": null,
   "metadata": {},
   "outputs": [],
   "source": [
    "# Cole sucks at Pandas\n",
    "\n",
    "SEV_ORDER = [\"BLOCKER\", \"CRITICAL\", \"MAJOR\", \"MINOR\", \"INFO\"]\n",
    "\n",
    "percBugg = megaTable[megaTable[\"type\"] == \"BUG\"].value_counts(\"severity\", normalize=True)\n",
    "percSmel = megaTable[megaTable[\"type\"] == \"CODE_SMELL\"].value_counts(\"severity\", normalize=True)\n",
    "percVuln = megaTable[megaTable[\"type\"] == \"VULNERABILITY\"].value_counts(\"severity\", normalize=True)\n",
    "\n",
    "percBuggDf = percBugg.to_frame(\"perc\").reset_index()\n",
    "percSmelDf = percSmel.to_frame(\"perc\").reset_index()\n",
    "percVulnDf = percVuln.to_frame(\"perc\").reset_index()\n",
    "\n",
    "percBuggDf['type'] = 'BUG'\n",
    "percSmelDf['type'] = 'CODE_SMELL'\n",
    "percVulnDf['type'] = 'VULNERABILITY'\n",
    "\n",
    "megaPerc = pd.concat([percBuggDf, percSmelDf, percVulnDf]).reset_index().drop(\"index\", axis=1)\n",
    "\n",
    "for i in [\"BUG\", \"CODE_SMELL\", \"VULNERABILITY\"]:\n",
    "    for j in SEV_ORDER:\n",
    "        megaPerc = fillCol(megaPerc, j, i);\n",
    "\n",
    "megaPerc = megaPerc.append({\n",
    "    \"severity\": \"INFO\",\n",
    "    \"perc\": len(megaTable[megaTable[\"severity\"] == \"INFO\"]) / len(megaTable),\n",
    "    \"type\": \"ALL\"\n",
    "}, ignore_index=True)\n",
    "\n",
    "megaPerc = megaPerc.append({\n",
    "    \"severity\": \"MINOR\",\n",
    "    \"perc\": len(megaTable[megaTable[\"severity\"] == \"MINOR\"]) / len(megaTable),\n",
    "    \"type\": \"ALL\"\n",
    "}, ignore_index=True)\n",
    "\n",
    "megaPerc = megaPerc.append({\n",
    "    \"severity\": \"MAJOR\",\n",
    "    \"perc\": len(megaTable[megaTable[\"severity\"] == \"MAJOR\"]) / len(megaTable),\n",
    "    \"type\": \"ALL\"\n",
    "}, ignore_index=True)\n",
    "\n",
    "megaPerc = megaPerc.append({\n",
    "    \"severity\": \"CRITICAL\",\n",
    "    \"perc\": len(megaTable[megaTable[\"severity\"] == \"CRITICAL\"]) / len(megaTable),\n",
    "    \"type\": \"ALL\"\n",
    "}, ignore_index=True)\n",
    "\n",
    "megaPerc = megaPerc.append({\n",
    "    \"severity\": \"BLOCKER\",\n",
    "    \"perc\": len(megaTable[megaTable[\"severity\"] == \"BLOCKER\"]) / len(megaTable),\n",
    "    \"type\": \"ALL\"\n",
    "}, ignore_index=True)\n",
    "\n",
    "megaPerc['perc'] = megaPerc['perc'] * 100\n",
    "\n",
    "percInfo = megaTable[megaTable[\"severity\"] == \"INFO\"].value_counts(\"type\", normalize=True)\n",
    "percMino = megaTable[megaTable[\"severity\"] == \"MINOR\"].value_counts(\"type\", normalize=True)\n",
    "percMajo = megaTable[megaTable[\"severity\"] == \"MAJOR\"].value_counts(\"type\", normalize=True)\n",
    "percCrit = megaTable[megaTable[\"severity\"] == \"CRITICAL\"].value_counts(\"type\", normalize=True)\n",
    "percBloc = megaTable[megaTable[\"severity\"] == \"BLOCKER\"].value_counts(\"type\", normalize=True)\n",
    "\n",
    "percInfoDf = percInfo.to_frame(\"perc\").reset_index()\n",
    "percMinoDf = percMino.to_frame(\"perc\").reset_index()\n",
    "percMajoDf = percMajo.to_frame(\"perc\").reset_index()\n",
    "percBlocDf = percCrit.to_frame(\"perc\").reset_index()\n",
    "percCritDf = percBloc.to_frame(\"perc\").reset_index()\n",
    "\n",
    "percInfoDf['severity'] = 'INFO'\n",
    "percMinoDf['severity'] = 'MINOR'\n",
    "percMajoDf['severity'] = 'MAJOR'\n",
    "percCritDf['severity'] = 'CRITICAL'\n",
    "percBlocDf['severity'] = 'BLOCKER'\n",
    "\n",
    "megaPercOt = pd.concat([percInfoDf, percMinoDf, percMajoDf, percCritDf, percBlocDf]).reset_index().drop(\"index\", axis=1)\n",
    "\n",
    "for i in [\"BUG\", \"CODE_SMELL\", \"VULNERABILITY\"]:\n",
    "    for j in SEV_ORDER:\n",
    "        megaPercOt = fillCol(megaPercOt, j, i);\n",
    "\n",
    "megaPercOt = megaPercOt.append({\n",
    "    \"severity\": \"ALL\",\n",
    "    \"perc\": len(megaTable[megaTable[\"type\"] == \"BUG\"]) / len(megaTable),\n",
    "    \"type\": \"BUG\"\n",
    "}, ignore_index=True)\n",
    "\n",
    "megaPercOt = megaPercOt.append({\n",
    "    \"severity\": \"ALL\",\n",
    "    \"perc\": len(megaTable[megaTable[\"type\"] == \"CODE_SMELL\"]) / len(megaTable),\n",
    "    \"type\": \"CODE_SMELL\"\n",
    "}, ignore_index=True)\n",
    "\n",
    "megaPercOt = megaPercOt.append({\n",
    "    \"severity\": \"ALL\",\n",
    "    \"perc\": len(megaTable[megaTable[\"type\"] == \"VULNERABILITY\"]) / len(megaTable),\n",
    "    \"type\": \"VULNERABILITY\"\n",
    "}, ignore_index=True)\n",
    "\n",
    "megaPercOt['perc'] = megaPercOt['perc'] * 100"
   ]
  },
  {
   "cell_type": "code",
   "execution_count": null,
   "metadata": {},
   "outputs": [],
   "source": [
    "megaPerc.sort_values([\"type\", \"severity\"]).set_index([\"type\", \"severity\"])[\"perc\"]"
   ]
  },
  {
   "cell_type": "code",
   "execution_count": null,
   "metadata": {},
   "outputs": [],
   "source": [
    "ax = megaPerc.set_index([\"severity\", \"type\"])[\"perc\"] \\\n",
    "    .loc[SEV_ORDER] \\\n",
    "    .unstack('severity') \\\n",
    "    .loc[[\"ALL\", \"VULNERABILITY\", \"CODE_SMELL\", \"BUG\"]] \\\n",
    "    .sort_index(key=lambda l: l.str.replace(\"I\", \"ZI\"), axis=1) \\\n",
    "    .plot.bar(color=[\"darkred\", \"salmon\", \"sandybrown\", \"khaki\", \"skyblue\"], stacked=True)\n",
    "\n",
    "ax.legend(loc='center left', bbox_to_anchor=(1, 0.5), title=\"Issue Severity\")\n",
    "ax.set_xlabel(\"Issue Type\", fontsize=20)\n",
    "ax.set_ylabel(\"% Makeup\", fontsize=20)\n",
    "ax.set_title(\"% Makeup by Issue Type\", fontweight='bold', fontsize=26)\n",
    "plt.xticks(rotation=45)"
   ]
  },
  {
   "cell_type": "code",
   "execution_count": null,
   "metadata": {},
   "outputs": [],
   "source": [
    "ax = megaPercOt.set_index([\"type\", \"severity\"])[\"perc\"] \\\n",
    "    .loc[[\"CODE_SMELL\", \"BUG\", \"VULNERABILITY\"]] \\\n",
    "    .unstack('type') \\\n",
    "    .loc[[\"ALL\", \"BLOCKER\", \"CRITICAL\", \"MAJOR\", \"MINOR\", \"INFO\"]] \\\n",
    "    .sort_index(key=lambda l: l.str.replace(\"V\", \"AV\"), axis=1) \\\n",
    "    .plot.bar(stacked=True, color=[\"salmon\", \"khaki\", \"skyblue\"])\n",
    "\n",
    "ax.legend(loc='center left', bbox_to_anchor=(1, 0.5))\n",
    "\n",
    "ax.legend(loc='center left', bbox_to_anchor=(1, 0.5), title=\"Issue Type\")\n",
    "ax.set_xlabel(\"Issue Severity\", fontsize=20)\n",
    "ax.set_ylabel(\"% Makeup\", fontsize=20)\n",
    "ax.set_title(\"% Makeup by Issue Severity\", fontweight=\"bold\", fontsize=26)\n",
    "plt.xticks(rotation=45)"
   ]
  },
  {
   "cell_type": "code",
   "execution_count": null,
   "metadata": {},
   "outputs": [],
   "source": [
    "megaPerc"
   ]
  },
  {
   "cell_type": "code",
   "execution_count": null,
   "metadata": {},
   "outputs": [],
   "source": [
    "megaTable.groupby([\"type\", \"severity\"]).count()[\"project_id\"]"
   ]
  },
  {
   "cell_type": "code",
   "execution_count": null,
   "metadata": {},
   "outputs": [],
   "source": [
    "SEV_ORDER = [\"BLOCKER\", \"CRITICAL\", \"MAJOR\", \"MINOR\", \"INFO\"]\n",
    "\n",
    "ax = megaTable.groupby([\"type\", \"severity\"]) \\\n",
    "    .count()[\"project_id\"] \\\n",
    "    .unstack('type') \\\n",
    "    .loc[SEV_ORDER] \\\n",
    "    .sort_index(key=lambda l: l.str.replace(\"V\", \"AV\"), axis=1) \\\n",
    "    .plot.bar(color=[\"salmon\", \"khaki\", \"skyblue\"])\n",
    "\n",
    "ax.legend(loc='center left', bbox_to_anchor=(1, 0.5), title=\"Issue Type\")\n",
    "ax.set_xlabel(\"Issue Severity\", fontsize=20)\n",
    "ax.set_ylabel(\"# of Issues\", fontsize=20)\n",
    "ax.set_title(\"# of Issues by Issue Severity\", fontweight=\"bold\", fontsize=26)\n",
    "plt.xticks(rotation=45)"
   ]
  },
  {
   "cell_type": "code",
   "execution_count": null,
   "metadata": {},
   "outputs": [],
   "source": [
    "TYP_ORDER = [\"VULNERABILITY\", \"CODE_SMELL\", \"BUG\"]\n",
    "ax = megaTable.groupby([\"severity\", \"type\"]) \\\n",
    "    .count()[\"project_id\"] \\\n",
    "    .unstack('severity') \\\n",
    "    .loc[TYP_ORDER] \\\n",
    "    .plot.bar(color=[\"darkred\", \"salmon\", \"sandybrown\", \"khaki\", \"skyblue\"])\n",
    "\n",
    "ax.legend(loc='center left', bbox_to_anchor=(1, 0.5), title=\"Issue Severity\")\n",
    "ax.set_xlabel(\"Issue Type\", fontsize=20)\n",
    "ax.set_ylabel(\"# of Issues\", fontsize=20)\n",
    "ax.set_title(\"# of Issues by Issue Type\", fontweight=\"bold\", fontsize=26)\n",
    "plt.xticks(rotation=45)"
   ]
  },
  {
   "cell_type": "code",
   "execution_count": null,
   "metadata": {},
   "outputs": [],
   "source": [
    "megaTable.groupby([\"type\", \"severity\"]).count()[\"project_id\"]"
   ]
  },
  {
   "cell_type": "code",
   "execution_count": null,
   "metadata": {},
   "outputs": [],
   "source": [
    "megaTable.groupby(\"student\").count()[\"project_id\"]"
   ]
  },
  {
   "cell_type": "code",
   "execution_count": null,
   "metadata": {},
   "outputs": [],
   "source": [
    "megaTable[megaTable[\"student\"] == \"10b24926a66942e1d84d1fe81805f611fed3af8923779167c96162d92ab88c2a\"] \\\n",
    "    .groupby(\"project_id\").count()[\"student\"].sort_values(ascending=False)"
   ]
  },
  {
   "cell_type": "code",
   "execution_count": null,
   "metadata": {},
   "outputs": [],
   "source": [
    "vuln_issues = megaTable[megaTable[\"type\"] == \"VULNERABILITY\"]\n",
    "smel_issues = megaTable[megaTable[\"type\"] == \"CODE_SMELL\"]\n",
    "bugg_issues = megaTable[megaTable[\"type\"] == \"BUG\"]"
   ]
  },
  {
   "cell_type": "code",
   "execution_count": null,
   "metadata": {},
   "outputs": [],
   "source": [
    "breakdown = pd.Series([len(vuln_issues), len(smel_issues), len(bugg_issues)], index=[\"Vulnerability\", \"Code Smell\", \"Bug\"])"
   ]
  },
  {
   "cell_type": "code",
   "execution_count": null,
   "metadata": {},
   "outputs": [],
   "source": [
    "breakdown.plot.pie(title=\"SAST Issue Classification\", ylabel=\"\", explode=(0.1, 0.1, 0.1), colors=['salmon', 'lightgreen', 'skyblue'], startangle=90)"
   ]
  },
  {
   "cell_type": "code",
   "execution_count": null,
   "metadata": {},
   "outputs": [],
   "source": [
    "len(vuln_issues)"
   ]
  },
  {
   "cell_type": "code",
   "execution_count": null,
   "metadata": {},
   "outputs": [],
   "source": [
    "len(bugg_issues)"
   ]
  },
  {
   "cell_type": "code",
   "execution_count": null,
   "metadata": {},
   "outputs": [],
   "source": [
    "len(smel_issues)"
   ]
  },
  {
   "cell_type": "code",
   "execution_count": null,
   "metadata": {},
   "outputs": [],
   "source": [
    "def plot_pie_breakdown(df, title):\n",
    "    df_counted = df.groupby(\"severity\").count()[\"project_id\"]\n",
    "    ord_df_count = pd.Series([\\\n",
    "         df_counted[\"INFO\"] if  \"INFO\" in df_counted else 0, \\\n",
    "         df_counted[\"MINOR\"] if  \"MINOR\" in df_counted else 0, \\\n",
    "         df_counted[\"MAJOR\"] if  \"MAJOR\" in df_counted else 0, \\\n",
    "         df_counted[\"CRITICAL\"] if  \"CRITICAL\" in df_counted else 0, \\\n",
    "         df_counted[\"BLOCKER\"] if  \"BLOCKER\" in df_counted else 0, \\\n",
    "        ], index=[\"Info\", \"Minor\", \"Major\", \"Critical\", \"Blocker\"])\n",
    "    ord_df_count.plot.pie(startangle=90, title=title, explode=(0.1, 0.1, 0.1, 0.1, 0.1), ylabel=\"\", colors=[\"skyblue\", \"khaki\", \"sandybrown\", \"salmon\", \"darkred\"])"
   ]
  },
  {
   "cell_type": "code",
   "execution_count": null,
   "metadata": {},
   "outputs": [],
   "source": [
    "plot_pie_breakdown(megaTable, \"SAST Issue Severity (All)\")"
   ]
  },
  {
   "cell_type": "code",
   "execution_count": null,
   "metadata": {},
   "outputs": [],
   "source": [
    "plot_pie_breakdown(vuln_issues, \"Vulnerability Issue Severity\")"
   ]
  },
  {
   "cell_type": "code",
   "execution_count": null,
   "metadata": {},
   "outputs": [],
   "source": [
    "plot_pie_breakdown(bugg_issues, \"Bug Issue Severity\")"
   ]
  },
  {
   "cell_type": "code",
   "execution_count": null,
   "metadata": {},
   "outputs": [],
   "source": [
    "plot_pie_breakdown(smel_issues, \"Code Smell Issue Severity\")"
   ]
  },
  {
   "cell_type": "code",
   "execution_count": null,
   "metadata": {},
   "outputs": [],
   "source": [
    "megaTable[(megaTable['rule'] == 'javascript:S1135') & (megaTable['student'] == '6ff85833fc31e8bab5bad382ca8d79d2fb245f175d4fa06721d5655ef51f3e07')]\n"
   ]
  },
  {
   "cell_type": "code",
   "execution_count": null,
   "metadata": {
    "scrolled": false
   },
   "outputs": [],
   "source": [
    "smel = smel_issues.groupby(\"rule\").count()[\"project_id\"].sort_values(ascending=False)\n",
    "print(sum(smel[5:]))\n",
    "print(len(smel) - 5)\n",
    "smel[:5]"
   ]
  },
  {
   "cell_type": "code",
   "execution_count": null,
   "metadata": {},
   "outputs": [],
   "source": [
    "bugg = bugg_issues.groupby(\"rule\").count()[\"project_id\"].sort_values(ascending=False)\n",
    "print(sum(bugg[5:]))\n",
    "print(len(bugg) - 5)\n",
    "bugg[:5]"
   ]
  },
  {
   "cell_type": "code",
   "execution_count": null,
   "metadata": {},
   "outputs": [],
   "source": [
    "vuln_issues.groupby(\"rule\").count()[\"project_id\"].sort_values(ascending=False)"
   ]
  },
  {
   "cell_type": "code",
   "execution_count": null,
   "metadata": {},
   "outputs": [],
   "source": [
    "sast_findings = megaTable.groupby(\"student\").count()[\"project_id\"]\n",
    "ax = sast_findings.hist(bins=30)\n",
    "ax.set_xlabel(\"# of Issues\")\n",
    "ax.set_ylabel(\"# of Students\")\n",
    "ax.set_title(\"# of Issues by # of Students\")"
   ]
  },
  {
   "cell_type": "code",
   "execution_count": null,
   "metadata": {},
   "outputs": [],
   "source": [
    "vuln_issues[vuln_issues[\"student\"] == \"0385977ba8d1b3161e3377e46dafabb769421f3e963bc7d4ffd983b5eb9f1058\"]"
   ]
  },
  {
   "cell_type": "code",
   "execution_count": null,
   "metadata": {},
   "outputs": [],
   "source": [
    "vuln_findings = vuln_issues.groupby(\"student\").count()[\"project_id\"]\n",
    "vuln_findings"
   ]
  },
  {
   "cell_type": "code",
   "execution_count": null,
   "metadata": {},
   "outputs": [],
   "source": [
    "# new_vulns = (vuln_issues.groupby(\"student\").count()[\"project_id\"] - 67)\n",
    "# sorted(new_vulns[new_vulns != 0])"
   ]
  },
  {
   "cell_type": "code",
   "execution_count": null,
   "metadata": {},
   "outputs": [],
   "source": [
    "stats.normaltest(sast_findings)"
   ]
  },
  {
   "cell_type": "code",
   "execution_count": null,
   "metadata": {},
   "outputs": [],
   "source": [
    "# https://support.sisense.com/kb/en/article/test-for-normal-distribution-of-data-with-python\n",
    "def ecdf(data):\n",
    "    \"\"\"Compute ECDF for a one-dimensional array of measurements.\"\"\"\n",
    "\n",
    "    # Number of data points: n\n",
    "    n = len(data)\n",
    "\n",
    "    # x-data for the ECDF: x\n",
    "    x = np.sort(data)\n",
    "\n",
    "    # y-data for the ECDF: y\n",
    "    y = np.arange(1, n+1) / n\n",
    "\n",
    "    return x, y"
   ]
  },
  {
   "cell_type": "code",
   "execution_count": null,
   "metadata": {},
   "outputs": [],
   "source": [
    "x, y = ecdf(sast_findings)\n",
    "plt.figure()\n",
    "plt.plot(x, y, marker=\".\", linestyle=\"none\")\n",
    "plt.xlabel(\"# of Issues\")\n",
    "plt.ylabel(\"Cumulative Distribution Function\")\n",
    "samples = np.random.normal(np.mean(sast_findings), np.std(sast_findings), size=10000)\n",
    "x_theor, y_theor = ecdf(samples)\n",
    "plt.plot(x_theor, y_theor)\n",
    "plt.legend(('Empirical Data', 'Normal Distribution'), loc='lower right')\n",
    "plt.title(\"Empirical vs Normal Distribution of Data\")"
   ]
  },
  {
   "cell_type": "code",
   "execution_count": null,
   "metadata": {},
   "outputs": [],
   "source": [
    "# # x, y = ecdf(sast_findings)\n",
    "# # plt.figure()\n",
    "# # plt.plot(x, y, marker=\".\", linestyle=\"none\")\n",
    "# # plt.xlabel(\"# of SAST Findings\")\n",
    "# plt.ylabel(\"Cumulative Distribution Function\")\n",
    "# samples = np.random.poisson(np.mean(sast_findings), size=10000)\n",
    "# y_theor = stats.poisson.cdf(samples, np.mean(sast_findings))\n",
    "# y_theor = stats.poisson.pmf(samples, np.mean(sast_findings))\n",
    "# print(y_theor)\n",
    "# theor = [(x, y) for x, y in sorted(zip(samples, y_theor))]\n",
    "# x_theor = [i[0] for i in theor]\n",
    "# y_theor = [i[1] for i in theor]\n",
    "# plt.plot(x_theor, y_theor)\n",
    "# plt.legend(('Empirical Data', 'Poission Distribution'), loc='lower right')\n",
    "# plt.title(\"Empirical vs Poission Distribution of Data\")"
   ]
  },
  {
   "cell_type": "code",
   "execution_count": null,
   "metadata": {},
   "outputs": [],
   "source": [
    "sast_findings.mean() / 8"
   ]
  },
  {
   "cell_type": "code",
   "execution_count": null,
   "metadata": {},
   "outputs": [],
   "source": [
    "sast_findings.std() / 8"
   ]
  },
  {
   "cell_type": "code",
   "execution_count": null,
   "metadata": {},
   "outputs": [],
   "source": [
    "sast_findings.values"
   ]
  },
  {
   "cell_type": "code",
   "execution_count": null,
   "metadata": {},
   "outputs": [],
   "source": []
  },
  {
   "cell_type": "code",
   "execution_count": null,
   "metadata": {},
   "outputs": [],
   "source": []
  },
  {
   "cell_type": "code",
   "execution_count": null,
   "metadata": {},
   "outputs": [],
   "source": []
  }
 ],
 "metadata": {
  "kernelspec": {
   "display_name": "Python 3 (ipykernel)",
   "language": "python",
   "name": "python3"
  },
  "language_info": {
   "codemirror_mode": {
    "name": "ipython",
    "version": 3
   },
   "file_extension": ".py",
   "mimetype": "text/x-python",
   "name": "python",
   "nbconvert_exporter": "python",
   "pygments_lexer": "ipython3",
   "version": "3.9.7"
  }
 },
 "nbformat": 4,
 "nbformat_minor": 2
}
