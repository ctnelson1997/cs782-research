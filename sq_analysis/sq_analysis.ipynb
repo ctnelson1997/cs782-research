{
 "cells": [
  {
   "cell_type": "code",
   "execution_count": null,
   "metadata": {},
   "outputs": [],
   "source": [
    "# CLEAR OUTPUT BEFORE COMMITTING!!!"
   ]
  },
  {
   "cell_type": "code",
   "execution_count": null,
   "metadata": {},
   "outputs": [],
   "source": [
    "import sqlite3\n",
    "import pandas as pd\n",
    "from pandas import DataFrame, Series\n",
    "import numpy as np\n",
    "import matplotlib\n",
    "from matplotlib import pyplot as plt\n",
    "from scipy import stats\n",
    "import seaborn as sns\n",
    "\n",
    "matplotlib.rcParams[\"font.size\"] = 12\n",
    "sns.set()"
   ]
  },
  {
   "cell_type": "code",
   "execution_count": null,
   "metadata": {},
   "outputs": [],
   "source": [
    "conn = sqlite3.connect(\"db.db\")\n",
    "pd.read_sql(\"SELECT * FROM sqlite_master WHERE type='table'\", conn)"
   ]
  },
  {
   "cell_type": "code",
   "execution_count": null,
   "metadata": {},
   "outputs": [],
   "source": [
    "projects = pd.read_sql(\"\"\"\n",
    "    SELECT *\n",
    "    FROM SQ_Project\n",
    "\"\"\", conn)\n",
    "\n",
    "issues = pd.read_sql(\"\"\"\n",
    "    SELECT *\n",
    "    FROM SQ_Issue\n",
    "\"\"\", conn)\n",
    "\n",
    "projects = projects.set_index(\"id\")\n",
    "issues = issues.set_index(\"id\")"
   ]
  },
  {
   "cell_type": "code",
   "execution_count": null,
   "metadata": {},
   "outputs": [],
   "source": [
    "projects = projects[projects[\"student\"] != \"bf07896588ac21f4471e818c5a7475898cf80e609f73a93134d9f6da5a6e3e38\"]\n",
    "projects = projects[projects[\"student\"] != \"0e83d1dddd1c3468d23a033da13e34bfdbd3b09e3c129d2d4fe4044acaf0bbc6\"]\n",
    "\n",
    "issues = issues[issues[\"project_id\"] != \"f22_hw1_bf07896588ac21f4471e818c5a7475898cf80e609f73a93134d9f6da5a6e3e38\"]\n",
    "issues = issues[issues[\"project_id\"] != \"f22_hw2_bf07896588ac21f4471e818c5a7475898cf80e609f73a93134d9f6da5a6e3e38\"]\n",
    "issues = issues[issues[\"project_id\"] != \"f22_hw3_bf07896588ac21f4471e818c5a7475898cf80e609f73a93134d9f6da5a6e3e38\"]\n",
    "issues = issues[issues[\"project_id\"] != \"f22_hw4_bf07896588ac21f4471e818c5a7475898cf80e609f73a93134d9f6da5a6e3e38\"]\n",
    "issues = issues[issues[\"project_id\"] != \"f22_hw5_bf07896588ac21f4471e818c5a7475898cf80e609f73a93134d9f6da5a6e3e38\"]\n",
    "issues = issues[issues[\"project_id\"] != \"f22_hw6_bf07896588ac21f4471e818c5a7475898cf80e609f73a93134d9f6da5a6e3e38\"]\n",
    "issues = issues[issues[\"project_id\"] != \"f22_hw7_bf07896588ac21f4471e818c5a7475898cf80e609f73a93134d9f6da5a6e3e38\"]\n",
    "issues = issues[issues[\"project_id\"] != \"f22_hw8_bf07896588ac21f4471e818c5a7475898cf80e609f73a93134d9f6da5a6e3e38\"]\n",
    "\n",
    "issues = issues[issues[\"project_id\"] != \"f22_hw1_0e83d1dddd1c3468d23a033da13e34bfdbd3b09e3c129d2d4fe4044acaf0bbc6\"]\n",
    "issues = issues[issues[\"project_id\"] != \"f22_hw2_0e83d1dddd1c3468d23a033da13e34bfdbd3b09e3c129d2d4fe4044acaf0bbc6\"]\n",
    "issues = issues[issues[\"project_id\"] != \"f22_hw3_0e83d1dddd1c3468d23a033da13e34bfdbd3b09e3c129d2d4fe4044acaf0bbc6\"]\n",
    "issues = issues[issues[\"project_id\"] != \"f22_hw4_0e83d1dddd1c3468d23a033da13e34bfdbd3b09e3c129d2d4fe4044acaf0bbc6\"]\n",
    "issues = issues[issues[\"project_id\"] != \"f22_hw5_0e83d1dddd1c3468d23a033da13e34bfdbd3b09e3c129d2d4fe4044acaf0bbc6\"]\n",
    "issues = issues[issues[\"project_id\"] != \"f22_hw6_0e83d1dddd1c3468d23a033da13e34bfdbd3b09e3c129d2d4fe4044acaf0bbc6\"]\n",
    "issues = issues[issues[\"project_id\"] != \"f22_hw7_0e83d1dddd1c3468d23a033da13e34bfdbd3b09e3c129d2d4fe4044acaf0bbc6\"]\n",
    "issues = issues[issues[\"project_id\"] != \"f22_hw8_0e83d1dddd1c3468d23a033da13e34bfdbd3b09e3c129d2d4fe4044acaf0bbc6\"]"
   ]
  },
  {
   "cell_type": "code",
   "execution_count": null,
   "metadata": {},
   "outputs": [],
   "source": [
    "megaTable = issues.join(projects, on=\"project_id\")"
   ]
  },
  {
   "cell_type": "code",
   "execution_count": null,
   "metadata": {},
   "outputs": [],
   "source": [
    "projects.columns"
   ]
  },
  {
   "cell_type": "code",
   "execution_count": null,
   "metadata": {},
   "outputs": [],
   "source": [
    "issues.columns"
   ]
  },
  {
   "cell_type": "code",
   "execution_count": null,
   "metadata": {},
   "outputs": [],
   "source": [
    "megaTable.columns"
   ]
  },
  {
   "cell_type": "code",
   "execution_count": null,
   "metadata": {},
   "outputs": [],
   "source": [
    "megaTable"
   ]
  },
  {
   "cell_type": "code",
   "execution_count": null,
   "metadata": {},
   "outputs": [],
   "source": [
    "print(len(megaTable[megaTable[\"severity\"] == \"INFO\"]))\n",
    "print(len(megaTable[megaTable[\"severity\"] == \"MINOR\"]))\n",
    "print(len(megaTable[megaTable[\"severity\"] == \"MAJOR\"]))\n",
    "print(len(megaTable[megaTable[\"severity\"] == \"CRITICAL\"]))\n",
    "print(len(megaTable[megaTable[\"severity\"] == \"BLOCKER\"]))"
   ]
  },
  {
   "cell_type": "code",
   "execution_count": null,
   "metadata": {},
   "outputs": [],
   "source": [
    "vuln_issues = megaTable[megaTable[\"type\"] == \"VULNERABILITY\"]\n",
    "smel_issues = megaTable[megaTable[\"type\"] == \"CODE_SMELL\"]\n",
    "bugg_issues = megaTable[megaTable[\"type\"] == \"BUG\"]"
   ]
  },
  {
   "cell_type": "code",
   "execution_count": null,
   "metadata": {},
   "outputs": [],
   "source": [
    "breakdown = pd.Series([len(vuln_issues), len(smel_issues), len(bugg_issues)], index=[\"Vulnerability\", \"Code Smell\", \"Bug\"])"
   ]
  },
  {
   "cell_type": "code",
   "execution_count": null,
   "metadata": {},
   "outputs": [],
   "source": [
    "breakdown.plot.pie(title=\"SAST Issue Classification\", ylabel=\"\", explode=(0.1, 0.1, 0.1), colors=['salmon', 'lightgreen', 'skyblue'], autopct='%1.1f%%', startangle=90)"
   ]
  },
  {
   "cell_type": "code",
   "execution_count": null,
   "metadata": {},
   "outputs": [],
   "source": [
    "len(vuln_issues)"
   ]
  },
  {
   "cell_type": "code",
   "execution_count": null,
   "metadata": {},
   "outputs": [],
   "source": [
    "len(bugg_issues)"
   ]
  },
  {
   "cell_type": "code",
   "execution_count": null,
   "metadata": {},
   "outputs": [],
   "source": [
    "len(smel_issues)"
   ]
  },
  {
   "cell_type": "code",
   "execution_count": null,
   "metadata": {},
   "outputs": [],
   "source": [
    "def plot_pie_breakdown(df, title):\n",
    "    df_counted = df.groupby(\"severity\").count()[\"project_id\"]\n",
    "    ord_df_count = pd.Series([\\\n",
    "         df_counted[\"INFO\"] if  \"INFO\" in df_counted else 0, \\\n",
    "         df_counted[\"MINOR\"] if  \"MINOR\" in df_counted else 0, \\\n",
    "         df_counted[\"MAJOR\"] if  \"MAJOR\" in df_counted else 0, \\\n",
    "         df_counted[\"CRITICAL\"] if  \"CRITICAL\" in df_counted else 0, \\\n",
    "         df_counted[\"BLOCKER\"] if  \"BLOCKER\" in df_counted else 0, \\\n",
    "        ], index=[\"Info\", \"Minor\", \"Major\", \"Critical\", \"Blocker\"])\n",
    "    ord_df_count.plot.pie(startangle=90, title=title, explode=(0.1, 0.1, 0.1, 0.1, 0.1), ylabel=\"\", colors=[\"skyblue\", \"khaki\", \"sandybrown\", \"salmon\", \"darkred\"])"
   ]
  },
  {
   "cell_type": "code",
   "execution_count": null,
   "metadata": {},
   "outputs": [],
   "source": [
    "plot_pie_breakdown(megaTable, \"SAST Issue Severity (All)\")"
   ]
  },
  {
   "cell_type": "code",
   "execution_count": null,
   "metadata": {},
   "outputs": [],
   "source": [
    "plot_pie_breakdown(vuln_issues, \"Vulnerability Issue Severity\")"
   ]
  },
  {
   "cell_type": "code",
   "execution_count": null,
   "metadata": {},
   "outputs": [],
   "source": [
    "plot_pie_breakdown(bugg_issues, \"Bug Issue Severity\")"
   ]
  },
  {
   "cell_type": "code",
   "execution_count": null,
   "metadata": {},
   "outputs": [],
   "source": [
    "plot_pie_breakdown(smel_issues, \"Code Smell Issue Severity\")"
   ]
  },
  {
   "cell_type": "code",
   "execution_count": null,
   "metadata": {
    "scrolled": false
   },
   "outputs": [],
   "source": [
    "# javascript:S1135: Track uses of \"TODO\" tags\n",
    "# javascript:S1854: Unused assignments should be removed\n",
    "# javascript:S1481: Unused local variables and functions should be removed\n",
    "# javascript:S1128: Unnecessary imports should be removed\n",
    "# javascript:S125:  Sections of code should not be commented out\n",
    "# javascript:S3504: Variables should be declared with \"let\" or \"const\"\n",
    "# javascript:S3863: Imports from the same modules should be merged\n",
    "smel_issues.groupby(\"rule\").count()[\"project_id\"].sort_values(ascending=False)"
   ]
  },
  {
   "cell_type": "code",
   "execution_count": null,
   "metadata": {},
   "outputs": [],
   "source": [
    "# javascript:S3403: Strict equality operators should not be used with dissimilar types\n",
    "# javascript:S930:  Function calls should not pass extra arguments\n",
    "# javascript:S1529: Bitwise operators should not be used in boolean contexts\n",
    "# javascript:S905:  Non-empty statements should change control flow or have at least one side-effect\n",
    "bugg_issues.groupby(\"rule\").count()[\"project_id\"].sort_values(ascending=False)"
   ]
  },
  {
   "cell_type": "code",
   "execution_count": null,
   "metadata": {},
   "outputs": [],
   "source": [
    "vuln_issues.groupby(\"rule\").count()[\"project_id\"].sort_values(ascending=False)"
   ]
  },
  {
   "cell_type": "code",
   "execution_count": null,
   "metadata": {},
   "outputs": [],
   "source": [
    "sast_findings = megaTable.groupby(\"student\").count()[\"project_id\"]\n",
    "ax = sast_findings.hist(bins=30)\n",
    "ax.set_xlabel(\"# of SAST Findings\")\n",
    "ax.set_ylabel(\"# of Students\")\n",
    "ax.set_title(\"# of SAST Findings by # of Students\")"
   ]
  },
  {
   "cell_type": "code",
   "execution_count": null,
   "metadata": {},
   "outputs": [],
   "source": [
    "vuln_findings = vuln_issues.groupby(\"student\").count()[\"project_id\"]\n",
    "vuln_findings"
   ]
  },
  {
   "cell_type": "code",
   "execution_count": null,
   "metadata": {},
   "outputs": [],
   "source": [
    "new_vulns = (vuln_issues.groupby(\"student\").count()[\"project_id\"] - 67)\n",
    "sorted(new_vulns[new_vulns != 0])"
   ]
  },
  {
   "cell_type": "code",
   "execution_count": null,
   "metadata": {},
   "outputs": [],
   "source": [
    "stats.normaltest(sast_findings)"
   ]
  },
  {
   "cell_type": "code",
   "execution_count": null,
   "metadata": {},
   "outputs": [],
   "source": [
    "# https://support.sisense.com/kb/en/article/test-for-normal-distribution-of-data-with-python\n",
    "def ecdf(data):\n",
    "    \"\"\"Compute ECDF for a one-dimensional array of measurements.\"\"\"\n",
    "\n",
    "    # Number of data points: n\n",
    "    n = len(data)\n",
    "\n",
    "    # x-data for the ECDF: x\n",
    "    x = np.sort(data)\n",
    "\n",
    "    # y-data for the ECDF: y\n",
    "    y = np.arange(1, n+1) / n\n",
    "\n",
    "    return x, y"
   ]
  },
  {
   "cell_type": "code",
   "execution_count": null,
   "metadata": {},
   "outputs": [],
   "source": [
    "x, y = ecdf(sast_findings)\n",
    "plt.figure()\n",
    "plt.plot(x, y, marker=\".\", linestyle=\"none\")\n",
    "plt.xlabel(\"# of SAST Findings\")\n",
    "plt.ylabel(\"Cumulative Distribution Function\")\n",
    "samples = np.random.normal(np.mean(sast_findings), np.std(sast_findings), size=10000)\n",
    "x_theor, y_theor = ecdf(samples)\n",
    "plt.plot(x_theor, y_theor)\n",
    "plt.legend(('Empirical Data', 'Normal Distribution'), loc='lower right')\n",
    "plt.title(\"Empirical vs Normal Distribution of Data\")"
   ]
  },
  {
   "cell_type": "code",
   "execution_count": null,
   "metadata": {},
   "outputs": [],
   "source": [
    "sast_findings.mean()"
   ]
  },
  {
   "cell_type": "code",
   "execution_count": null,
   "metadata": {},
   "outputs": [],
   "source": [
    "sast_findings.std()"
   ]
  },
  {
   "cell_type": "code",
   "execution_count": null,
   "metadata": {},
   "outputs": [],
   "source": [
    "conn.close()"
   ]
  },
  {
   "cell_type": "code",
   "execution_count": null,
   "metadata": {},
   "outputs": [],
   "source": []
  }
 ],
 "metadata": {
  "kernelspec": {
   "display_name": "Python 3 (ipykernel)",
   "language": "python",
   "name": "python3"
  },
  "language_info": {
   "codemirror_mode": {
    "name": "ipython",
    "version": 3
   },
   "file_extension": ".py",
   "mimetype": "text/x-python",
   "name": "python",
   "nbconvert_exporter": "python",
   "pygments_lexer": "ipython3",
   "version": "3.9.7"
  }
 },
 "nbformat": 4,
 "nbformat_minor": 2
}
